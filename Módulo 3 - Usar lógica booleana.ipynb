{
 "cells": [
  {
   "cell_type": "code",
   "execution_count": null,
   "metadata": {},
   "outputs": [],
   "source": []
  },
  {
   "cell_type": "markdown",
   "metadata": {},
   "source": [
    "# Asteroid Alert"
   ]
  },
  {
   "cell_type": "markdown",
   "metadata": {},
   "source": [
    "### Aspecto 1) Condicional que imprime una advertencia si un asteroide se acerca a la Tierra demasiado rápido. \n",
    "\n",
    "La velocidad del asteroide varía dependiendo de lo cerca que esté del sol, y cualquier velocidad superior a 25 kilómetros por segundo (km/s) merece una advertencia."
   ]
  },
  {
   "cell_type": "code",
   "execution_count": 2,
   "metadata": {},
   "outputs": [
    {
     "name": "stdout",
     "output_type": "stream",
     "text": [
      "Warning! Un asteroide se aproxima a la tierra a una grran velocidad!!\n"
     ]
    }
   ],
   "source": [
    "asteroid = 49\n",
    "if asteroid > 25:\n",
    "    print('Warning! Un asteroide se aproxima a la tierra a una gran velocidad!!')\n"
   ]
  },
  {
   "cell_type": "markdown",
   "metadata": {},
   "source": [
    "### Aspecto #2) Si un asteroide entra en la atmósfera de la Tierra a una velocidad mayor o igual a 20 km/s, a veces produce un rayo de luz que se puede ver desde la Tierra. \n",
    "\n",
    "Alertar a las personas de todo el mundo que deben buscar un asteroide en el cielo."
   ]
  },
  {
   "cell_type": "code",
   "execution_count": 16,
   "metadata": {},
   "outputs": [
    {
     "name": "stdout",
     "output_type": "stream",
     "text": [
      "¡Atencion!, Todos procurar mirar al cielo en busca de un asteroide, es posible ver destellos de luz\n"
     ]
    }
   ],
   "source": [
    "asteroid = 19\n",
    "\n",
    "if asteroid == 20:\n",
    "     print ('Se ha detectado un asteriode que ha entrado a la atmosfera con una gran velocidad, es posible ver su destello de luz')\n",
    "elif asteroid > 20:\n",
    "    print ('Se ha detectado un asteriode que ha entrado a la atmosfera con una gran velocidad, es posible ver su destello de luz')\n",
    "else:\n",
    "    print ('¡Atencion!, Todos procurar mirar al cielo en busca de un asteroide, es posible ver destellos de luz') \n",
    "    \n",
    "    "
   ]
  },
  {
   "cell_type": "markdown",
   "metadata": {},
   "source": [
    "# Velocidad y tamaño "
   ]
  },
  {
   "cell_type": "markdown",
   "metadata": {},
   "source": [
    "### Aspecto 1) Saber de manera acertiva cuándo los asteroides representan un peligro para la Tierra.\n",
    "\n",
    "*Los asteroides de menos de 25 metros en su dimensión más grande probablemente se quemarán a medida que entren en la atmósfera de la Tierra.\n",
    "\n",
    "-Si una pieza de un asteroide que es más grande que 25 metros pero más pequeña que 1000 metros golpeara la Tierra, causaría mucho daño.\n",
    "También discutimos en el ejercicio anterior que:\n",
    "\n",
    "La velocidad del asteroide varía en función de lo cerca que esté del sol, y cualquier velocidad superior a 25 kilómetros por segundo (km/s) merece una advertencia.\n",
    "Si un asteroide entra en la atmósfera de la Tierra a una velocidad mayor o igual a 20 km/s, a veces produce un rayo de luz que se puede ver desde la Tierra.\n",
    "Usando toda esta información, escribe un programa que emita la advertencia o información correcta a la gente de la Tierra, según la velocidad y el tamaño de un asteroide. Utiliza instrucciones if, else, y elif, así como los operadores and y or."
   ]
  },
  {
   "cell_type": "code",
   "execution_count": 15,
   "metadata": {},
   "outputs": [
    {
     "name": "stdout",
     "output_type": "stream",
     "text": [
      "Warning! Un asteroide se aproxima a la tierra a una grran velocidad!!\n",
      "Factor 1: Velocidad superior a 25 kilómetros por segundo (km/s) merece una advertencia.\n",
      "Warning! Un asteroide se aproxima a la tierra a una grran velocidad!!\n",
      "Se ha detectado un asteriode que ha entrado a la atmosfera con una gran velocidad, es posible ver su destello de luz\n"
     ]
    }
   ],
   "source": [
    "velocity = 26\n",
    "size = 26\n",
    "\n",
    "if velocity > 25:\n",
    "    print('Warning! Un asteroide se aproxima a la tierra a una grran velocidad!!')\n",
    "    print('Factor 1: Velocidad superior a 25 kilómetros por segundo (km/s) merece una advertencia.')\n",
    "if velocity > 20:\n",
    "    print('Warning! Un asteroide se aproxima a la tierra a una grran velocidad!!')\n",
    "    print('Se ha detectado un asteriode que ha entrado a la atmosfera con una gran velocidad, es posible ver su destello de luz')\n",
    "elif size > 25 and size < 1000:\n",
    "    print('¡Atencion! Un asteroide está a punto de impactar Tierra, se considera que habra muchos daños ')\n",
    "    print('Factor 1: Tamaño entre 25 y 1000 golpeara la Tierra')\n",
    "    print('Factor 2: Tamaño entre 25 y 1000 golpeara la Tierra')\n",
    "elif size > 25 and size < 1000 and velocity > 20:\n",
    "    print('¡Atencion! Un asteroide está a punto de impactar Tierra, se considera que habra muchos daños, por su velocidad es posible ver un destello de luz')\n",
    "    print('Factor 1: Tamaño entre 25 y 1000 golpeara la Tierra')\n",
    "    print('Factor 2: Velocidad mayor a 20km indicador de destello de luz')\n",
    "else:\n",
    "    print('Parece ser un buen día')\n"
   ]
  }
 ],
 "metadata": {
  "interpreter": {
   "hash": "2be5faf79681da6f2a61fdfdd5405d65d042280f7fba6178067603e3a2925119"
  },
  "kernelspec": {
   "display_name": "Python 3.10.2 64-bit",
   "language": "python",
   "name": "python3"
  },
  "language_info": {
   "codemirror_mode": {
    "name": "ipython",
    "version": 3
   },
   "file_extension": ".py",
   "mimetype": "text/x-python",
   "name": "python",
   "nbconvert_exporter": "python",
   "pygments_lexer": "ipython3",
   "version": "3.10.2"
  },
  "orig_nbformat": 4
 },
 "nbformat": 4,
 "nbformat_minor": 2
}
