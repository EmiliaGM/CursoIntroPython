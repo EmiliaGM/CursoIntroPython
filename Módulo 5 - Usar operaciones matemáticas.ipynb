{
 "cells": [
  {
   "cell_type": "markdown",
   "metadata": {},
   "source": [
    "# Distancia entre planetas (Km)"
   ]
  },
  {
   "cell_type": "code",
   "execution_count": 8,
   "metadata": {},
   "outputs": [
    {
     "name": "stdout",
     "output_type": "stream",
     "text": [
      "Distancia entre planetas en Km es :\n",
      "628949330\n"
     ]
    }
   ],
   "source": [
    "\n",
    "\n",
    "distancia1 =149597870\n",
    "distancia2 =778547200 \n",
    "\n",
    "distanciaKm = distancia2 - distancia1\n",
    "\n",
    "distanciaMi = distanciaKm * 0.621\n",
    "\n",
    "print('Distancia entre planetas en Km es :')\n",
    "print(distanciaKm)"
   ]
  },
  {
   "cell_type": "markdown",
   "metadata": {},
   "source": [
    "# Distancia entre planetas (Millas)"
   ]
  },
  {
   "cell_type": "code",
   "execution_count": 9,
   "metadata": {},
   "outputs": [
    {
     "name": "stdout",
     "output_type": "stream",
     "text": [
      "Distancia entre planetas en millas es :\n",
      "390577533.93\n"
     ]
    }
   ],
   "source": [
    "\n",
    "\n",
    "print('Distancia entre planetas en millas es :')\n",
    "print(distanciaMi)"
   ]
  },
  {
   "cell_type": "markdown",
   "metadata": {},
   "source": [
    "# Distancia del sol para dos planetas"
   ]
  },
  {
   "cell_type": "markdown",
   "metadata": {},
   "source": [
    "### mostrar la distancia entre los planetas. \n",
    "Haremos esto usando input para leer los valores, int para convertir a entero y luego abs para convertir el resultado en su valor absoluto."
   ]
  },
  {
   "cell_type": "code",
   "execution_count": 3,
   "metadata": {},
   "outputs": [
    {
     "name": "stdout",
     "output_type": "stream",
     "text": [
      "9\n",
      "5.589\n"
     ]
    }
   ],
   "source": [
    "distancia1 = input('Que distancia tiene del sol el primer planeta en Km ?')\n",
    "distancia2 = input('Que distancia tiene del sol el segundo planeta en Km ?')\n",
    "\n",
    "distancia1 = int(distancia1)\n",
    "distancia2 = int(distancia2)\n",
    "\n",
    "distanciaKm = distancia2 - distancia1\n",
    "\n",
    "\n",
    "distanciaMi = distanciaKm * 0.621\n",
    "print(abs(distanciaMi))"
   ]
  },
  {
   "cell_type": "markdown",
   "metadata": {},
   "source": [
    "### Distancia entre ambos planetas en Km\n"
   ]
  },
  {
   "cell_type": "code",
   "execution_count": 4,
   "metadata": {},
   "outputs": [
    {
     "name": "stdout",
     "output_type": "stream",
     "text": [
      "9\n"
     ]
    }
   ],
   "source": [
    "print(distanciaKm)"
   ]
  },
  {
   "cell_type": "markdown",
   "metadata": {},
   "source": [
    "### Distancia entre ambos planetas en Millas"
   ]
  },
  {
   "cell_type": "code",
   "execution_count": 6,
   "metadata": {},
   "outputs": [
    {
     "name": "stdout",
     "output_type": "stream",
     "text": [
      "5.589\n"
     ]
    }
   ],
   "source": [
    "print(distanciaMi)"
   ]
  }
 ],
 "metadata": {
  "interpreter": {
   "hash": "2be5faf79681da6f2a61fdfdd5405d65d042280f7fba6178067603e3a2925119"
  },
  "kernelspec": {
   "display_name": "Python 3.10.2 64-bit",
   "language": "python",
   "name": "python3"
  },
  "language_info": {
   "codemirror_mode": {
    "name": "ipython",
    "version": 3
   },
   "file_extension": ".py",
   "mimetype": "text/x-python",
   "name": "python",
   "nbconvert_exporter": "python",
   "pygments_lexer": "ipython3",
   "version": "3.10.2"
  },
  "orig_nbformat": 4
 },
 "nbformat": 4,
 "nbformat_minor": 2
}
